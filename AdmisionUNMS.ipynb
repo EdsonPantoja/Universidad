{
 "cells": [
  {
   "cell_type": "code",
   "execution_count": 1,
   "id": "fa0512a3",
   "metadata": {},
   "outputs": [
    {
     "name": "stdout",
     "output_type": "stream",
     "text": [
      "            APELLIDOS Y NOMBRES  NRO_POSTULACION\n",
      "0      ABAD GRANDA, ANDRE FAHET                1\n",
      "1       ABAD NEYRA, ANDREA TAIS                1\n",
      "2  ABAL YACSAYAURI, SOFIA BELEN                1\n",
      "3    ABANTO ARAUJO, PERCY ANGEL                1\n",
      "4  ABANTO AYALA, LARISSA TAMARA                1\n"
     ]
    }
   ],
   "source": [
    "import pandas as pd\n",
    "\n",
    "# Leer Datos\n",
    "df = pd.read_csv(\"./Data/df_final.csv\")\n",
    "\n",
    "# Contar cuántas veces ha postulado cada persona (numérico)\n",
    "df['NRO_POSTULACION'] = df.groupby('APELLIDOS Y NOMBRES').cumcount() + 1\n",
    "\n",
    "# Mostrar el resultado\n",
    "print(df[['APELLIDOS Y NOMBRES', 'NRO_POSTULACION']].head())\n"
   ]
  },
  {
   "cell_type": "code",
   "execution_count": 2,
   "id": "35ca19c3",
   "metadata": {},
   "outputs": [
    {
     "name": "stdout",
     "output_type": "stream",
     "text": [
      "            APELLIDOS Y NOMBRES  NRO_POSTULACION  EDAD\n",
      "0      ABAD GRANDA, ANDRE FAHET                1    17\n",
      "1       ABAD NEYRA, ANDREA TAIS                1    18\n",
      "2  ABAL YACSAYAURI, SOFIA BELEN                1    17\n",
      "3    ABANTO ARAUJO, PERCY ANGEL                1    17\n",
      "4  ABANTO AYALA, LARISSA TAMARA                1    18\n"
     ]
    }
   ],
   "source": [
    "import numpy as np\n",
    "\n",
    "# Función para generar una edad basada en NRO_POSTULACION\n",
    "def generar_edad(nro_postulacion):\n",
    "    min_edad = 16 + (nro_postulacion - 1)\n",
    "    max_edad = 20 + (nro_postulacion - 1)\n",
    "    return np.random.randint(min_edad, max_edad + 1)\n",
    "\n",
    "# Aplicar la función a cada fila\n",
    "df['EDAD'] = df['NRO_POSTULACION'].apply(generar_edad)\n",
    "\n",
    "# Ver resultado\n",
    "print(df[['APELLIDOS Y NOMBRES', 'NRO_POSTULACION', 'EDAD']].head())"
   ]
  },
  {
   "cell_type": "code",
   "execution_count": null,
   "id": "7bb526ce",
   "metadata": {},
   "outputs": [],
   "source": [
    "import pandas as pd\n",
    "from unidecode import unidecode\n",
    "\n",
    "# Leer el archivo names_ine.tsv con nombres de columnas personalizados\n",
    "names_df = pd.read_csv(\"./Data/data/names_ine.tsv\", sep=\"\\t\", header=None, names=[\"name\", \"frequency\", \"is_male\"])\n",
    "\n",
    "# Asegurar que los nombres en names_df estén en minúsculas\n",
    "names_df[\"name\"] = names_df[\"name\"].str.strip().str.lower()\n",
    "\n",
    "# Convertir la columna 'is_male' en texto (M/F)\n",
    "def convertir_genero(valor):\n",
    "    if valor == 1:\n",
    "        return \"M\"\n",
    "    elif valor == 0:\n",
    "        return \"F\"\n",
    "    else:\n",
    "        return \"ND\"\n",
    "    \n",
    "# Extraer primer nombre\n",
    "def extraer_nombre(nombre_completo):\n",
    "    try:\n",
    "        if \",\" in nombre_completo:\n",
    "            partes = nombre_completo.split(\",\")\n",
    "            if len(partes) < 2:\n",
    "                return None\n",
    "            nombres = partes[1].strip()\n",
    "        else:\n",
    "            nombres = nombre_completo.strip()\n",
    "        primer_nombre = nombres.split()[0].lower()\n",
    "        return unidecode(primer_nombre)\n",
    "    except:\n",
    "        return None\n",
    "    \n",
    "\n",
    "# Función para predecir el sexo a partir del primer nombre\n",
    "def predecir_genero(nombre):\n",
    "    if not nombre:\n",
    "        return \"ND\"\n",
    "    fila = names_df[names_df[\"name\"] == nombre]\n",
    "    if not fila.empty:\n",
    "        # Asegurarse de que el género se tome como una decisión binaria\n",
    "        probabilidad = fila.iloc[0][\"is_male\"]\n",
    "        # Si la probabilidad es mayor que 0.5, asignamos 'M'; si no, 'F'\n",
    "        return \"M\" if probabilidad > 0.5 else \"F\"\n",
    "    return \"ND\""
   ]
  },
  {
   "cell_type": "code",
   "execution_count": 10,
   "id": "5bc94ab7",
   "metadata": {},
   "outputs": [],
   "source": [
    "# Extraer primer nombre\n",
    "df['PRIMER_NOMBRE'] = df['APELLIDOS Y NOMBRES'].apply(extraer_nombre)\n",
    "\n",
    "# Predecir sexo\n",
    "df['SEXO'] = df['PRIMER_NOMBRE'].apply(predecir_genero)\n"
   ]
  },
  {
   "cell_type": "code",
   "execution_count": 11,
   "id": "0292aa1f",
   "metadata": {},
   "outputs": [
    {
     "name": "stdout",
     "output_type": "stream",
     "text": [
      "            APELLIDOS Y NOMBRES PRIMER_NOMBRE SEXO\n",
      "0      ABAD GRANDA, ANDRE FAHET         andre    M\n",
      "1       ABAD NEYRA, ANDREA TAIS        andrea    F\n",
      "2  ABAL YACSAYAURI, SOFIA BELEN         sofia    F\n",
      "3    ABANTO ARAUJO, PERCY ANGEL         percy    M\n",
      "4  ABANTO AYALA, LARISSA TAMARA       larissa    F\n"
     ]
    }
   ],
   "source": [
    "\n",
    "# Asignar 'M' o 'F' aleatoriamente a los que tienen 'ND'\n",
    "nd_mask = df[\"SEXO\"] == \"ND\"\n",
    "df.loc[nd_mask, \"SEXO\"] = np.random.choice([\"M\", \"F\"], size=nd_mask.sum())\n",
    "\n",
    "# Verificar resultado\n",
    "print(df[[\"APELLIDOS Y NOMBRES\", \"PRIMER_NOMBRE\", \"SEXO\"]].head())"
   ]
  },
  {
   "cell_type": "code",
   "execution_count": 12,
   "id": "fd2d01ed",
   "metadata": {},
   "outputs": [
    {
     "name": "stdout",
     "output_type": "stream",
     "text": [
      "            APELLIDOS Y NOMBRES COLEGIO_PROCENDENCIA\n",
      "0      ABAD GRANDA, ANDRE FAHET              Estatal\n",
      "1       ABAD NEYRA, ANDREA TAIS           Particular\n",
      "2  ABAL YACSAYAURI, SOFIA BELEN           Particular\n",
      "3    ABANTO ARAUJO, PERCY ANGEL              Estatal\n",
      "4  ABANTO AYALA, LARISSA TAMARA           Particular\n"
     ]
    }
   ],
   "source": [
    "# Asignar aleatoriamente 'Particular' y 'Estatal' con las probabilidades 55% y 45%\n",
    "df['COLEGIO_PROCENDENCIA'] = np.random.choice(\n",
    "    ['Particular', 'Estatal'], \n",
    "    size=len(df), \n",
    "    p=[0.55, 0.45]  # Probabilidades para 'Particular' y 'Estatal'\n",
    ")\n",
    "\n",
    "# Verificar el resultado\n",
    "print(df[['APELLIDOS Y NOMBRES', 'COLEGIO_PROCENDENCIA']].head())"
   ]
  },
  {
   "cell_type": "code",
   "execution_count": null,
   "id": "59fb1a4d",
   "metadata": {},
   "outputs": [],
   "source": [
    "# Eliminar la columna 'PRIMER_NOMBRE'\n",
    "df.drop(columns=['PRIMER_NOMBRE'], inplace=True)\n",
    "\n"
   ]
  },
  {
   "cell_type": "code",
   "execution_count": 16,
   "id": "8b4f94e0",
   "metadata": {},
   "outputs": [
    {
     "name": "stdout",
     "output_type": "stream",
     "text": [
      "            APELLIDOS Y NOMBRES   AÑO PERIODO          CARRERA     ESTATUS  \\\n",
      "0      ABAD GRANDA, ANDRE FAHET  2023       I  MEDICINA HUMANA  NO INGRESO   \n",
      "1       ABAD NEYRA, ANDREA TAIS  2023       I  MEDICINA HUMANA  NO INGRESO   \n",
      "2  ABAL YACSAYAURI, SOFIA BELEN  2023       I  MEDICINA HUMANA  NO INGRESO   \n",
      "3    ABANTO ARAUJO, PERCY ANGEL  2023       I  MEDICINA HUMANA  NO INGRESO   \n",
      "4  ABANTO AYALA, LARISSA TAMARA  2023       I  MEDICINA HUMANA  NO INGRESO   \n",
      "\n",
      "   POSTULANTES  \n",
      "0         3896  \n",
      "1         3896  \n",
      "2         3896  \n",
      "3         3896  \n",
      "4         3896  \n"
     ]
    }
   ],
   "source": [
    "# Agrupar por AÑO, PERIODO, y CARRERA, y contar el número total de postulantes en cada grupo\n",
    "postulantes = df.groupby(['AÑO', 'PERIODO', 'CARRERA']).size().reset_index(name='POSTULANTES')\n",
    "\n",
    "# Unir este conteo de postulantes con el DataFrame original (df)\n",
    "df = df.merge(postulantes, on=['AÑO', 'PERIODO', 'CARRERA'], how='left')\n",
    "\n",
    "# Verificar el resultado\n",
    "print(df[['APELLIDOS Y NOMBRES', 'AÑO', 'PERIODO', 'CARRERA', 'ESTATUS', 'POSTULANTES']].head())\n"
   ]
  },
  {
   "cell_type": "code",
   "execution_count": 32,
   "id": "783453a4",
   "metadata": {},
   "outputs": [
    {
     "name": "stdout",
     "output_type": "stream",
     "text": [
      "            APELLIDOS Y NOMBRES   AÑO PERIODO          CARRERA     ESTATUS  \\\n",
      "0      ABAD GRANDA, ANDRE FAHET  2023       I  MEDICINA HUMANA  NO INGRESO   \n",
      "1       ABAD NEYRA, ANDREA TAIS  2023       I  MEDICINA HUMANA  NO INGRESO   \n",
      "2  ABAL YACSAYAURI, SOFIA BELEN  2023       I  MEDICINA HUMANA  NO INGRESO   \n",
      "3    ABANTO ARAUJO, PERCY ANGEL  2023       I  MEDICINA HUMANA  NO INGRESO   \n",
      "4  ABANTO AYALA, LARISSA TAMARA  2023       I  MEDICINA HUMANA  NO INGRESO   \n",
      "\n",
      "   VACANTES  \n",
      "0        55  \n",
      "1        55  \n",
      "2        55  \n",
      "3        55  \n",
      "4        55  \n"
     ]
    }
   ],
   "source": [
    "# Filtrar solo los registros con ESTATUS == 'INGRESO'\n",
    "ingreso_df = df[df['ESTATUS'] == 'INGRESO']\n",
    "\n",
    "# Agrupar por AÑO, PERIODO, y CARRERA, y contar cuántos 'INGRESO' hay en cada grupo\n",
    "vacantes = ingreso_df.groupby(['AÑO', 'PERIODO', 'CARRERA']).size().reset_index(name='VACANTES')\n",
    "\n",
    "# Unir este conteo de vacantes con el DataFrame original (df)\n",
    "df = df.merge(vacantes, on=['AÑO', 'PERIODO', 'CARRERA'], how='left')\n",
    "\n",
    "# Verificar el resultado\n",
    "print(df[['APELLIDOS Y NOMBRES', 'AÑO', 'PERIODO', 'CARRERA', 'ESTATUS', 'VACANTES']].head())\n"
   ]
  },
  {
   "cell_type": "code",
   "execution_count": 30,
   "id": "d2a784ae",
   "metadata": {},
   "outputs": [],
   "source": [
    "# Eliminar la columna 'PRIMER_NOMBRE'\n",
    "df.drop(columns=['PRIMER_NOMBRE'], inplace=True)"
   ]
  },
  {
   "cell_type": "code",
   "execution_count": 34,
   "id": "92480731",
   "metadata": {},
   "outputs": [],
   "source": [
    "# Guardar el DataFrame actualizado en un archivo CSV\n",
    "df.to_csv('./Data/df_final_con_colegio.csv', index=False)"
   ]
  },
  {
   "cell_type": "code",
   "execution_count": 33,
   "id": "e5adda84",
   "metadata": {},
   "outputs": [
    {
     "data": {
      "text/html": [
       "<div>\n",
       "<style scoped>\n",
       "    .dataframe tbody tr th:only-of-type {\n",
       "        vertical-align: middle;\n",
       "    }\n",
       "\n",
       "    .dataframe tbody tr th {\n",
       "        vertical-align: top;\n",
       "    }\n",
       "\n",
       "    .dataframe thead th {\n",
       "        text-align: right;\n",
       "    }\n",
       "</style>\n",
       "<table border=\"1\" class=\"dataframe\">\n",
       "  <thead>\n",
       "    <tr style=\"text-align: right;\">\n",
       "      <th></th>\n",
       "      <th>CODIGO</th>\n",
       "      <th>APELLIDOS Y NOMBRES</th>\n",
       "      <th>CARRERA</th>\n",
       "      <th>PUNTAJE</th>\n",
       "      <th>PUESTO</th>\n",
       "      <th>ESTATUS</th>\n",
       "      <th>MODALIDAD</th>\n",
       "      <th>SEDE</th>\n",
       "      <th>AÑO</th>\n",
       "      <th>PERIODO</th>\n",
       "      <th>NRO_POSTULACION</th>\n",
       "      <th>EDAD</th>\n",
       "      <th>SEXO</th>\n",
       "      <th>COLEGIO_PROCENDENCIA</th>\n",
       "      <th>POSTULANTES</th>\n",
       "      <th>VACANTES</th>\n",
       "    </tr>\n",
       "  </thead>\n",
       "  <tbody>\n",
       "    <tr>\n",
       "      <th>0</th>\n",
       "      <td>108704</td>\n",
       "      <td>ABAD GRANDA, ANDRE FAHET</td>\n",
       "      <td>MEDICINA HUMANA</td>\n",
       "      <td>1007.125</td>\n",
       "      <td></td>\n",
       "      <td>NO INGRESO</td>\n",
       "      <td>EDUCACIÓN BÁSICA REGULAR (EBR) Y EDUCACIÓN BÁS...</td>\n",
       "      <td>LIMA</td>\n",
       "      <td>2023</td>\n",
       "      <td>I</td>\n",
       "      <td>1</td>\n",
       "      <td>17</td>\n",
       "      <td>M</td>\n",
       "      <td>Estatal</td>\n",
       "      <td>3896</td>\n",
       "      <td>55</td>\n",
       "    </tr>\n",
       "    <tr>\n",
       "      <th>1</th>\n",
       "      <td>159787</td>\n",
       "      <td>ABAD NEYRA, ANDREA TAIS</td>\n",
       "      <td>MEDICINA HUMANA</td>\n",
       "      <td>480.375</td>\n",
       "      <td></td>\n",
       "      <td>NO INGRESO</td>\n",
       "      <td>EDUCACIÓN BÁSICA REGULAR (EBR) Y EDUCACIÓN BÁS...</td>\n",
       "      <td>LIMA</td>\n",
       "      <td>2023</td>\n",
       "      <td>I</td>\n",
       "      <td>1</td>\n",
       "      <td>18</td>\n",
       "      <td>F</td>\n",
       "      <td>Particular</td>\n",
       "      <td>3896</td>\n",
       "      <td>55</td>\n",
       "    </tr>\n",
       "    <tr>\n",
       "      <th>2</th>\n",
       "      <td>100330</td>\n",
       "      <td>ABAL YACSAYAURI, SOFIA BELEN</td>\n",
       "      <td>MEDICINA HUMANA</td>\n",
       "      <td>504.875</td>\n",
       "      <td></td>\n",
       "      <td>NO INGRESO</td>\n",
       "      <td>EDUCACIÓN BÁSICA REGULAR (EBR) Y EDUCACIÓN BÁS...</td>\n",
       "      <td>LIMA</td>\n",
       "      <td>2023</td>\n",
       "      <td>I</td>\n",
       "      <td>1</td>\n",
       "      <td>17</td>\n",
       "      <td>F</td>\n",
       "      <td>Particular</td>\n",
       "      <td>3896</td>\n",
       "      <td>55</td>\n",
       "    </tr>\n",
       "    <tr>\n",
       "      <th>3</th>\n",
       "      <td>121362</td>\n",
       "      <td>ABANTO ARAUJO, PERCY ANGEL</td>\n",
       "      <td>MEDICINA HUMANA</td>\n",
       "      <td>733.625</td>\n",
       "      <td></td>\n",
       "      <td>NO INGRESO</td>\n",
       "      <td>EDUCACIÓN BÁSICA REGULAR (EBR) Y EDUCACIÓN BÁS...</td>\n",
       "      <td>LIMA</td>\n",
       "      <td>2023</td>\n",
       "      <td>I</td>\n",
       "      <td>1</td>\n",
       "      <td>17</td>\n",
       "      <td>M</td>\n",
       "      <td>Estatal</td>\n",
       "      <td>3896</td>\n",
       "      <td>55</td>\n",
       "    </tr>\n",
       "    <tr>\n",
       "      <th>4</th>\n",
       "      <td>139925</td>\n",
       "      <td>ABANTO AYALA, LARISSA TAMARA</td>\n",
       "      <td>MEDICINA HUMANA</td>\n",
       "      <td>733.625</td>\n",
       "      <td></td>\n",
       "      <td>NO INGRESO</td>\n",
       "      <td>EDUCACIÓN BÁSICA REGULAR (EBR) Y EDUCACIÓN BÁS...</td>\n",
       "      <td>LIMA</td>\n",
       "      <td>2023</td>\n",
       "      <td>I</td>\n",
       "      <td>1</td>\n",
       "      <td>18</td>\n",
       "      <td>F</td>\n",
       "      <td>Particular</td>\n",
       "      <td>3896</td>\n",
       "      <td>55</td>\n",
       "    </tr>\n",
       "  </tbody>\n",
       "</table>\n",
       "</div>"
      ],
      "text/plain": [
       "   CODIGO           APELLIDOS Y NOMBRES          CARRERA   PUNTAJE PUESTO  \\\n",
       "0  108704      ABAD GRANDA, ANDRE FAHET  MEDICINA HUMANA  1007.125          \n",
       "1  159787       ABAD NEYRA, ANDREA TAIS  MEDICINA HUMANA   480.375          \n",
       "2  100330  ABAL YACSAYAURI, SOFIA BELEN  MEDICINA HUMANA   504.875          \n",
       "3  121362    ABANTO ARAUJO, PERCY ANGEL  MEDICINA HUMANA   733.625          \n",
       "4  139925  ABANTO AYALA, LARISSA TAMARA  MEDICINA HUMANA   733.625          \n",
       "\n",
       "      ESTATUS                                          MODALIDAD  SEDE   AÑO  \\\n",
       "0  NO INGRESO  EDUCACIÓN BÁSICA REGULAR (EBR) Y EDUCACIÓN BÁS...  LIMA  2023   \n",
       "1  NO INGRESO  EDUCACIÓN BÁSICA REGULAR (EBR) Y EDUCACIÓN BÁS...  LIMA  2023   \n",
       "2  NO INGRESO  EDUCACIÓN BÁSICA REGULAR (EBR) Y EDUCACIÓN BÁS...  LIMA  2023   \n",
       "3  NO INGRESO  EDUCACIÓN BÁSICA REGULAR (EBR) Y EDUCACIÓN BÁS...  LIMA  2023   \n",
       "4  NO INGRESO  EDUCACIÓN BÁSICA REGULAR (EBR) Y EDUCACIÓN BÁS...  LIMA  2023   \n",
       "\n",
       "  PERIODO  NRO_POSTULACION  EDAD SEXO COLEGIO_PROCENDENCIA  POSTULANTES  \\\n",
       "0       I                1    17    M              Estatal         3896   \n",
       "1       I                1    18    F           Particular         3896   \n",
       "2       I                1    17    F           Particular         3896   \n",
       "3       I                1    17    M              Estatal         3896   \n",
       "4       I                1    18    F           Particular         3896   \n",
       "\n",
       "   VACANTES  \n",
       "0        55  \n",
       "1        55  \n",
       "2        55  \n",
       "3        55  \n",
       "4        55  "
      ]
     },
     "execution_count": 33,
     "metadata": {},
     "output_type": "execute_result"
    }
   ],
   "source": [
    "df.head()"
   ]
  }
 ],
 "metadata": {
  "kernelspec": {
   "display_name": "venv",
   "language": "python",
   "name": "python3"
  },
  "language_info": {
   "codemirror_mode": {
    "name": "ipython",
    "version": 3
   },
   "file_extension": ".py",
   "mimetype": "text/x-python",
   "name": "python",
   "nbconvert_exporter": "python",
   "pygments_lexer": "ipython3",
   "version": "3.12.10"
  }
 },
 "nbformat": 4,
 "nbformat_minor": 5
}
